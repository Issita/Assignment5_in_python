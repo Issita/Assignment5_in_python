{
 "cells": [
  {
   "cell_type": "code",
   "execution_count": 1,
   "id": "16e646e8-3600-4c04-9f98-8d87e1786439",
   "metadata": {},
   "outputs": [],
   "source": [
    "#Q1. Explain Class and Object with respect to Object-Oriented Programming. Give a suitable example."
   ]
  },
  {
   "cell_type": "code",
   "execution_count": 2,
   "id": "c635054c-a779-4f7e-900b-447a575f9dc3",
   "metadata": {},
   "outputs": [
    {
     "data": {
      "text/plain": [
       "'Class is a blueprint or a template for creating objects. It defines the properties and behaviors (methods) that an object of that class will have'"
      ]
     },
     "execution_count": 2,
     "metadata": {},
     "output_type": "execute_result"
    }
   ],
   "source": [
    "\"\"\"Class is a blueprint or a template for creating objects. It defines the properties and behaviors (methods) that an object of that class will have\"\"\""
   ]
  },
  {
   "cell_type": "code",
   "execution_count": 3,
   "id": "6a95fbd5-7983-4ca1-9b5b-81925e7006af",
   "metadata": {},
   "outputs": [
    {
     "data": {
      "text/plain": [
       "'object ia an instance or variable of the class. It is a runtime entity that has state (values of its properties) and behavior (methods)'"
      ]
     },
     "execution_count": 3,
     "metadata": {},
     "output_type": "execute_result"
    }
   ],
   "source": [
    "\"\"\"object ia an instance or variable of the class. It is a runtime entity that has state (values of its properties) and behavior (methods)\"\"\""
   ]
  },
  {
   "cell_type": "code",
   "execution_count": 4,
   "id": "aa63d4f6-586a-4527-8d59-61ac6935d231",
   "metadata": {},
   "outputs": [
    {
     "data": {
      "text/plain": [
       "'For example\\n\\n A car to explain the concept of class and object. A car can be represented as a class, which defines its properties and behaviors. The properties of a car class could be the make, model, year, color, number of doors, etc. The behaviors could be start, stop, accelerate, brake, turn, etc.we create an object that has the defined properties and behaviors of the car class. '"
      ]
     },
     "execution_count": 4,
     "metadata": {},
     "output_type": "execute_result"
    }
   ],
   "source": [
    "\"\"\"For example\n",
    "\n",
    " A car to explain the concept of class and object. A car can be represented as a class, which defines its properties and behaviors. The properties of a car class could be the make, model, year, color, number of doors, etc. The behaviors could be start, stop, accelerate, brake, turn, etc.we create an object that has the defined properties and behaviors of the car class. \"\"\""
   ]
  },
  {
   "cell_type": "code",
   "execution_count": 5,
   "id": "e4834caf-0ce5-4310-88b8-cb3efa5d1a6f",
   "metadata": {},
   "outputs": [],
   "source": [
    "class myCar():\n",
    "    def __init__(self, model, year, color ): #constructur\n",
    "        self.model = model\n",
    "        self.year = year\n",
    "        self.color = color\n",
    "        \n",
    "    def return_car_details(self):\n",
    "        return self.model, self.year, self.color"
   ]
  },
  {
   "cell_type": "code",
   "execution_count": 6,
   "id": "7653efab-cf78-46ac-9a65-7b78200fd192",
   "metadata": {},
   "outputs": [],
   "source": [
    "honda = myCar(\"Accord\",2019,\"red\")"
   ]
  },
  {
   "cell_type": "code",
   "execution_count": 7,
   "id": "97725902-dc33-4dd5-a015-474bfaf74a10",
   "metadata": {},
   "outputs": [
    {
     "data": {
      "text/plain": [
       "'Accord'"
      ]
     },
     "execution_count": 7,
     "metadata": {},
     "output_type": "execute_result"
    }
   ],
   "source": [
    "honda.model"
   ]
  },
  {
   "cell_type": "code",
   "execution_count": 8,
   "id": "acbd37ac-28c1-4789-8b10-6d7ae11cff20",
   "metadata": {},
   "outputs": [],
   "source": [
    "#Name the four pillars of OOPs."
   ]
  },
  {
   "cell_type": "code",
   "execution_count": 9,
   "id": "80a7906c-5805-42bf-ae3d-b2c5d437b89f",
   "metadata": {},
   "outputs": [
    {
     "data": {
      "text/plain": [
       "'\\n1- Encapsulation\\n2- Abstraction\\n3- Inheritance\\n4- polymorphism \\n'"
      ]
     },
     "execution_count": 9,
     "metadata": {},
     "output_type": "execute_result"
    }
   ],
   "source": [
    "\"\"\"\n",
    "1- Encapsulation\n",
    "2- Abstraction\n",
    "3- Inheritance\n",
    "4- polymorphism \n",
    "\"\"\""
   ]
  },
  {
   "cell_type": "code",
   "execution_count": 10,
   "id": "96cd3566-8576-434c-b6c0-14f93ee24e9d",
   "metadata": {},
   "outputs": [],
   "source": [
    "#Q3. Explain why the __init__() function is used. Give a suitable example."
   ]
  },
  {
   "cell_type": "code",
   "execution_count": 11,
   "id": "662cf389-b2f8-486d-8e47-746d25c8a666",
   "metadata": {},
   "outputs": [
    {
     "data": {
      "text/plain": [
       "'The __init__() function is a method that is automatically called at the time of creating an object of a class in Python. It is also known as a constructor in object-oriented programming. The purpose of this function is initialze the object attributes '"
      ]
     },
     "execution_count": 11,
     "metadata": {},
     "output_type": "execute_result"
    }
   ],
   "source": [
    "\"\"\"The __init__() function is a method that is automatically called at the time of creating an object of a class in Python. It is also known as a constructor in object-oriented programming. The purpose of this function is initialze the object attributes \"\"\""
   ]
  },
  {
   "cell_type": "code",
   "execution_count": 12,
   "id": "af700994-e1a5-4e9c-b057-d67d91ff7312",
   "metadata": {},
   "outputs": [],
   "source": [
    "class Person():\n",
    "    \n",
    "    def __init__(self, name,age):\n",
    "        self.name = name\n",
    "        self.age = age\n",
    "        \n",
    "    def return_person_details(self):\n",
    "        return self.name, self.age"
   ]
  },
  {
   "cell_type": "code",
   "execution_count": 13,
   "id": "d34b67a9-c1c5-4ac2-b2df-09db7c35ac44",
   "metadata": {},
   "outputs": [],
   "source": [
    "person1 = Person(\"Issita\", 20)"
   ]
  },
  {
   "cell_type": "code",
   "execution_count": 14,
   "id": "16da949f-a535-41be-ad57-615dcb96fabf",
   "metadata": {},
   "outputs": [
    {
     "data": {
      "text/plain": [
       "'Issita'"
      ]
     },
     "execution_count": 14,
     "metadata": {},
     "output_type": "execute_result"
    }
   ],
   "source": [
    "person1.name"
   ]
  },
  {
   "cell_type": "code",
   "execution_count": 15,
   "id": "1ed502d2-d7f7-4f39-a960-cd0b35113346",
   "metadata": {},
   "outputs": [
    {
     "data": {
      "text/plain": [
       "20"
      ]
     },
     "execution_count": 15,
     "metadata": {},
     "output_type": "execute_result"
    }
   ],
   "source": [
    "person1.age"
   ]
  },
  {
   "cell_type": "code",
   "execution_count": 16,
   "id": "09c9f73a-7c2e-474e-b931-3b9664dd52cd",
   "metadata": {},
   "outputs": [],
   "source": [
    "#Why self is used in OOPs?"
   ]
  },
  {
   "cell_type": "code",
   "execution_count": 17,
   "id": "27349368-781b-4553-a28b-ba8c44090dd4",
   "metadata": {},
   "outputs": [
    {
     "data": {
      "text/plain": [
       "' \"self\" parameter is used to refer to the object itself.  This allows the method to access the object\\'s properties and invoke its behaviors.It helps to distinguish between local variables and object properties.  '"
      ]
     },
     "execution_count": 17,
     "metadata": {},
     "output_type": "execute_result"
    }
   ],
   "source": [
    "\"\"\" \"self\" parameter is used to refer to the object itself.  This allows the method to access the object's properties and invoke its behaviors.It helps to distinguish between local variables and object properties.  \"\"\""
   ]
  },
  {
   "cell_type": "code",
   "execution_count": 18,
   "id": "a12e4b95-e9e6-4d8a-baed-16858c4813d2",
   "metadata": {},
   "outputs": [],
   "source": [
    "#Q5. What is inheritance? Give an example for each type of inheritance."
   ]
  },
  {
   "cell_type": "code",
   "execution_count": 19,
   "id": "0dcf277e-8271-4f79-9ed8-67a8e2e8f51c",
   "metadata": {},
   "outputs": [
    {
     "data": {
      "text/plain": [
       "' one class inherits the properties and methods of another class '"
      ]
     },
     "execution_count": 19,
     "metadata": {},
     "output_type": "execute_result"
    }
   ],
   "source": [
    "\"\"\" one class inherits the properties and methods of another class \"\"\""
   ]
  },
  {
   "cell_type": "code",
   "execution_count": 21,
   "id": "45fefb2b-d9e9-42f9-9993-2e9fb7a3b4e8",
   "metadata": {},
   "outputs": [
    {
     "name": "stdout",
     "output_type": "stream",
     "text": [
      "Amazon is an Online Ecommerce Store\n",
      "Ebay is an Online Store\n",
      "OLX is an Online Buy Sell Store\n"
     ]
    }
   ],
   "source": [
    "\n",
    "class Brands:               #parent_class\n",
    "    brand_name_1 = \"Amazon\"\n",
    "    brand_name_2 = \"Urbanic\"\n",
    "    brand_name_3 = \"OLX\"\n",
    "    \n",
    "class Products(Brands):       #child_class\n",
    "    prod_1 = \"Online Ecommerce Store\"\n",
    "    prod_2 = \"Online Ecommerce Store only fa\"\n",
    "    prod_3 = \"Online Buy Sell Store\"\n",
    "    \n",
    "obj_1 = Products()          #Object_creation\n",
    "print(obj_1.brand_name_1+\" is an \"+obj_1.prod_1)\n",
    "print(obj_1.brand_name_2+\" is an \"+obj_1.prod_2)\n",
    "print(obj_1.brand_name_3+\" is an \"+obj_1.prod_3)"
   ]
  },
  {
   "cell_type": "code",
   "execution_count": null,
   "id": "f36eea05-6e0b-4574-bdd8-e5739ca24129",
   "metadata": {},
   "outputs": [],
   "source": []
  }
 ],
 "metadata": {
  "kernelspec": {
   "display_name": "Python 3 (ipykernel)",
   "language": "python",
   "name": "python3"
  },
  "language_info": {
   "codemirror_mode": {
    "name": "ipython",
    "version": 3
   },
   "file_extension": ".py",
   "mimetype": "text/x-python",
   "name": "python",
   "nbconvert_exporter": "python",
   "pygments_lexer": "ipython3",
   "version": "3.10.8"
  }
 },
 "nbformat": 4,
 "nbformat_minor": 5
}
